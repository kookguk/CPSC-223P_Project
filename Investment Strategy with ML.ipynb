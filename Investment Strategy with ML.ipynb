{
 "cells": [
  {
   "cell_type": "markdown",
   "id": "3a341ea4-9eb1-4f77-b99c-5f8b3882cc49",
   "metadata": {},
   "source": [
    "# Investment strategies using machine learning\n",
    "\n",
    "Made by Junho Kook\n",
    "\n",
    "I would like to develop a draft program that uses Python language and machine learning technology to help plan investment strategies."
   ]
  },
  {
   "cell_type": "markdown",
   "id": "6f3e7d89-39aa-4ebd-91d6-6e88a96050ca",
   "metadata": {},
   "source": [
    "# Purpose of Project\n",
    "\n",
    "This project is meaningful in generating technical indicators (moving average, transaction volume average, RSI, etc.) based on financial market data and using machine learning models (XGBoost, Random Forest) to predict short-term upward and downward directions of stock prices. Beyond simple data analysis, it can experimentally evaluate the performance of investment strategies using machine learning and develop it into a basic model for algorithm trading, strategy backtesting, and portfolio rebalancing that can be applied to actual investment environments.\n",
    "\n",
    "To make it easier, the project creates a feature of technical indicators typically used in investments based on ETF data, and designs a binary classification model that predicts the direction of returns (up/down) for the next day. This prediction result can be used as basic data for real investment strategies, as investors can buy when they are likely to rise or develop defense strategies when they are likely to fall."
   ]
  },
  {
   "cell_type": "markdown",
   "id": "7397f3a8-7b88-4572-a323-2fb6abe47a04",
   "metadata": {},
   "source": [
    "## 1. Import required libraries"
   ]
  },
  {
   "cell_type": "code",
   "execution_count": 1,
   "id": "f9d224ca",
   "metadata": {
    "papermill": {
     "duration": 1.940268,
     "end_time": "2024-05-15T04:47:12.224708",
     "exception": false,
     "start_time": "2024-05-15T04:47:10.284440",
     "status": "completed"
    },
    "tags": []
   },
   "outputs": [],
   "source": [
    "import warnings\n",
    "import glob\n",
    "import os\n",
    "import datetime\n",
    "import matplotlib.pyplot as plt\n",
    "import pandas as pd\n",
    "import numpy as np\n",
    "from sklearn import preprocessing\n",
    "from sklearn.preprocessing import StandardScaler\n",
    "from sklearn.model_selection import train_test_split\n",
    "from sklearn.model_selection import cross_validate\n",
    "from sklearn.model_selection import TimeSeriesSplit\n",
    "from sklearn.model_selection import GridSearchCV\n",
    "from sklearn.linear_model import LinearRegression\n",
    "from sklearn.ensemble import RandomForestClassifier\n",
    "from xgboost import XGBClassifier\n",
    "from xgboost import plot_importance\n",
    "from sklearn.metrics import f1_score\n",
    "from sklearn.metrics import mean_squared_error, r2_score\n",
    "from sklearn.metrics import accuracy_score\n",
    "from sklearn.metrics import confusion_matrix, accuracy_score, precision_score, recall_score, f1_score, roc_auc_score\n",
    "from sklearn import svm\n",
    "import seaborn as sns; sns.set()"
   ]
  },
  {
   "cell_type": "markdown",
   "id": "6fe44573-bba8-4e25-b437-05c04b4ed205",
   "metadata": {},
   "source": [
    "## 2. Import Dataset"
   ]
  },
  {
   "cell_type": "code",
   "execution_count": 4,
   "id": "10a199bf",
   "metadata": {
    "papermill": {
     "duration": 0.038606,
     "end_time": "2024-05-15T04:47:12.270056",
     "exception": false,
     "start_time": "2024-05-15T04:47:12.231450",
     "status": "completed"
    },
    "tags": []
   },
   "outputs": [],
   "source": [
    "df = pd.read_csv('ETFs_main.csv')\n",
    "# Major price and transaction data related to ETFs (Exchange-Traded Funds)"
   ]
  },
  {
   "cell_type": "markdown",
   "id": "3983b09e-ed5d-43ba-99f6-216f62077633",
   "metadata": {},
   "source": [
    "## 3. Creating Technical Indicators\n",
    "\n",
    "Generates technical analysis indicators of typical financial analysis and then uses them as input variables for machine learning models"
   ]
  },
  {
   "cell_type": "code",
   "execution_count": 5,
   "id": "04dbc78a",
   "metadata": {
    "papermill": {
     "duration": 0.018661,
     "end_time": "2024-05-15T04:47:12.296250",
     "exception": false,
     "start_time": "2024-05-15T04:47:12.277589",
     "status": "completed"
    },
    "tags": []
   },
   "outputs": [],
   "source": [
    "# Calculates the n-day moving average (MA) of the stock price (CLOSE_SPY)\n",
    "def moving_average(df, n):\n",
    "    MA = pd.Series(df['CLOSE_SPY'].rolling(n, min_periods=n).mean(), name='MA_' + str(n))\n",
    "    df = df.join(MA)\n",
    "    return df\n",
    "\n",
    "# Calculate the n-day moving average (VMA) of VOLUME\n",
    "def volume_moving_average(df, n):\n",
    "    VMA = pd.Series(df['VOLUME'].rolling(n, min_periods=n).mean(), name='VMA_' + str(n))\n",
    "    df = df.join(VMA)\n",
    "    return df\n",
    "\n",
    "# Calculate RSI indicators that reflect the strength of the stock price's rise and fall\n",
    "def relative_strength_index(df, n):\n",
    "    delta = df['CLOSE_SPY'].diff()\n",
    "    gain = (delta.where(delta > 0, 0)).rolling(window=n).mean()\n",
    "    loss = (-delta.where(delta < 0, 0)).rolling(window=n).mean()\n",
    "    RS = gain / loss\n",
    "    RSI = 100 - (100 / (1 + RS))\n",
    "    RSI.name = 'RSI_' + str(n)\n",
    "    df = df.join(RSI)\n",
    "    return df"
   ]
  },
  {
   "cell_type": "code",
   "execution_count": 6,
   "id": "86cb9d50",
   "metadata": {
    "papermill": {
     "duration": 0.041267,
     "end_time": "2024-05-15T04:47:12.343927",
     "exception": false,
     "start_time": "2024-05-15T04:47:12.302660",
     "status": "completed"
    },
    "tags": []
   },
   "outputs": [
    {
     "name": "stdout",
     "output_type": "stream",
     "text": [
      "2727\n"
     ]
    }
   ],
   "source": [
    "# Apply technical indicators\n",
    "df = moving_average(df, 45)\n",
    "df = volume_moving_average(df, 45)\n",
    "df = relative_strength_index(df, 14)\n",
    "\n",
    "# Set 'Dates' column as index\n",
    "df = df.set_index('Dates')\n",
    "df = df.dropna()\n",
    "\n",
    "print(len(df))"
   ]
  },
  {
   "cell_type": "markdown",
   "id": "643968ba-f9a0-4b71-9e85-15a4de630c25",
   "metadata": {},
   "source": [
    "## 4. Create a target variable"
   ]
  },
  {
   "cell_type": "code",
   "execution_count": 7,
   "id": "34c3c119",
   "metadata": {
    "papermill": {
     "duration": 0.027302,
     "end_time": "2024-05-15T04:47:12.377833",
     "exception": false,
     "start_time": "2024-05-15T04:47:12.350531",
     "status": "completed"
    },
    "tags": []
   },
   "outputs": [
    {
     "name": "stdout",
     "output_type": "stream",
     "text": [
      "target\n",
      "1    1471\n",
      "0    1256\n",
      "Name: count, dtype: int64\n"
     ]
    }
   ],
   "source": [
    "# Create a target variable(pct_change)\n",
    "df['pct_change'] = df['CLOSE_SPY'].pct_change()\n",
    "\n",
    "# Create a binary classification target with a positive rate of return of 1 and a negative rate of 0\n",
    "df['target'] = np.where(df['pct_change'] > 0, 1, 0)\n",
    "df = df.dropna(subset=['target'])  # 결측값 제거\n",
    "\n",
    "df['target'] = df['target'].astype(np.int64)\n",
    "\n",
    "print(df['target'].value_counts())"
   ]
  },
  {
   "cell_type": "code",
   "execution_count": 8,
   "id": "4f2b9ccb",
   "metadata": {
    "papermill": {
     "duration": 0.015893,
     "end_time": "2024-05-15T04:47:12.400778",
     "exception": false,
     "start_time": "2024-05-15T04:47:12.384885",
     "status": "completed"
    },
    "tags": []
   },
   "outputs": [
    {
     "name": "stdout",
     "output_type": "stream",
     "text": [
      "2725\n"
     ]
    }
   ],
   "source": [
    "# Shift the target variable for next-day prediction\n",
    "df['target'] = df['target'].shift(-1)\n",
    "df = df.dropna()\n",
    "print(len(df))"
   ]
  },
  {
   "cell_type": "code",
   "execution_count": 9,
   "id": "ff7d961b",
   "metadata": {
    "papermill": {
     "duration": 0.01509,
     "end_time": "2024-05-15T04:47:12.422594",
     "exception": false,
     "start_time": "2024-05-15T04:47:12.407504",
     "status": "completed"
    },
    "tags": []
   },
   "outputs": [],
   "source": [
    "# Separating Descriptive and Target Variables\n",
    "y_var = df['target']\n",
    "x_var = df.drop(['target', 'OPEN', 'HIGH', 'LOW', 'VOLUME', 'CLOSE_SPY', 'pct_change'], axis=1)"
   ]
  },
  {
   "cell_type": "code",
   "execution_count": 10,
   "id": "c20f04c8",
   "metadata": {
    "papermill": {
     "duration": 0.015838,
     "end_time": "2024-05-15T04:47:12.445793",
     "exception": false,
     "start_time": "2024-05-15T04:47:12.429955",
     "status": "completed"
    },
    "tags": []
   },
   "outputs": [
    {
     "name": "stdout",
     "output_type": "stream",
     "text": [
      "up/down ratio: 0.54\n"
     ]
    }
   ],
   "source": [
    "# Check the Up and Down Rates\n",
    "up = df[df['target'] == 1].target.count()\n",
    "total = df.target.count()\n",
    "print('up/down ratio: {0:.2f}'.format(up / total))"
   ]
  },
  {
   "cell_type": "markdown",
   "id": "f96bad37-8e51-4b7f-94c8-26b9666a06db",
   "metadata": {},
   "source": [
    "## 5. Split train and test datasets"
   ]
  },
  {
   "cell_type": "code",
   "execution_count": 11,
   "id": "86e4d695",
   "metadata": {
    "papermill": {
     "duration": 0.020808,
     "end_time": "2024-05-15T04:47:12.473706",
     "exception": false,
     "start_time": "2024-05-15T04:47:12.452898",
     "status": "completed"
    },
    "tags": []
   },
   "outputs": [
    {
     "name": "stdout",
     "output_type": "stream",
     "text": [
      "train set label ratio\n",
      "target\n",
      "1.0    0.543786\n",
      "0.0    0.456214\n",
      "Name: count, dtype: float64\n",
      "test set label ratio\n",
      "target\n",
      "1.0    0.530562\n",
      "0.0    0.469438\n",
      "Name: count, dtype: float64\n"
     ]
    }
   ],
   "source": [
    "X_train, X_test, y_train, y_test = train_test_split(x_var, y_var, test_size=0.3, shuffle=False, random_state=3)\n",
    "\n",
    "train_count = y_train.count()\n",
    "test_count = y_test.count()\n",
    "\n",
    "print('train set label ratio')\n",
    "print(y_train.value_counts() / train_count)\n",
    "print('test set label ratio')\n",
    "print(y_test.value_counts() / test_count)"
   ]
  },
  {
   "cell_type": "code",
   "execution_count": 12,
   "id": "f7edb6f7",
   "metadata": {
    "papermill": {
     "duration": 0.02954,
     "end_time": "2024-05-15T04:47:12.510649",
     "exception": false,
     "start_time": "2024-05-15T04:47:12.481109",
     "status": "completed"
    },
    "tags": []
   },
   "outputs": [
    {
     "data": {
      "text/html": [
       "<div>\n",
       "<style scoped>\n",
       "    .dataframe tbody tr th:only-of-type {\n",
       "        vertical-align: middle;\n",
       "    }\n",
       "\n",
       "    .dataframe tbody tr th {\n",
       "        vertical-align: top;\n",
       "    }\n",
       "\n",
       "    .dataframe thead th {\n",
       "        text-align: right;\n",
       "    }\n",
       "</style>\n",
       "<table border=\"1\" class=\"dataframe\">\n",
       "  <thead>\n",
       "    <tr style=\"text-align: right;\">\n",
       "      <th></th>\n",
       "      <th>CLOSE_GLD</th>\n",
       "      <th>CLOSE_FXY</th>\n",
       "      <th>CLOSE_T10Y2Y</th>\n",
       "      <th>CLOSE_TED</th>\n",
       "      <th>CLOSE_USO</th>\n",
       "      <th>CLOSE_UUP</th>\n",
       "      <th>CLOSE_VIX</th>\n",
       "      <th>CLOSE_VWO</th>\n",
       "      <th>MA_45</th>\n",
       "      <th>VMA_45</th>\n",
       "      <th>RSI_14</th>\n",
       "    </tr>\n",
       "    <tr>\n",
       "      <th>Dates</th>\n",
       "      <th></th>\n",
       "      <th></th>\n",
       "      <th></th>\n",
       "      <th></th>\n",
       "      <th></th>\n",
       "      <th></th>\n",
       "      <th></th>\n",
       "      <th></th>\n",
       "      <th></th>\n",
       "      <th></th>\n",
       "      <th></th>\n",
       "    </tr>\n",
       "  </thead>\n",
       "  <tbody>\n",
       "    <tr>\n",
       "      <th>2007-04-30</th>\n",
       "      <td>67.09</td>\n",
       "      <td>83.7166</td>\n",
       "      <td>2.4361</td>\n",
       "      <td>0.57</td>\n",
       "      <td>51.24</td>\n",
       "      <td>24.49</td>\n",
       "      <td>14.22</td>\n",
       "      <td>40.935</td>\n",
       "      <td>143.601556</td>\n",
       "      <td>1.116466e+08</td>\n",
       "      <td>70.956720</td>\n",
       "    </tr>\n",
       "    <tr>\n",
       "      <th>2007-05-02</th>\n",
       "      <td>66.66</td>\n",
       "      <td>83.3800</td>\n",
       "      <td>2.4366</td>\n",
       "      <td>0.59</td>\n",
       "      <td>49.59</td>\n",
       "      <td>24.66</td>\n",
       "      <td>13.08</td>\n",
       "      <td>42.020</td>\n",
       "      <td>143.680667</td>\n",
       "      <td>1.121613e+08</td>\n",
       "      <td>79.237288</td>\n",
       "    </tr>\n",
       "    <tr>\n",
       "      <th>2007-05-03</th>\n",
       "      <td>67.49</td>\n",
       "      <td>83.1100</td>\n",
       "      <td>2.4346</td>\n",
       "      <td>0.60</td>\n",
       "      <td>49.28</td>\n",
       "      <td>24.69</td>\n",
       "      <td>13.09</td>\n",
       "      <td>42.435</td>\n",
       "      <td>143.780222</td>\n",
       "      <td>1.123421e+08</td>\n",
       "      <td>79.604579</td>\n",
       "    </tr>\n",
       "    <tr>\n",
       "      <th>2007-05-04</th>\n",
       "      <td>68.19</td>\n",
       "      <td>83.2300</td>\n",
       "      <td>2.4006</td>\n",
       "      <td>0.60</td>\n",
       "      <td>48.30</td>\n",
       "      <td>24.60</td>\n",
       "      <td>12.91</td>\n",
       "      <td>42.595</td>\n",
       "      <td>143.905111</td>\n",
       "      <td>1.128853e+08</td>\n",
       "      <td>79.411765</td>\n",
       "    </tr>\n",
       "    <tr>\n",
       "      <th>2007-05-08</th>\n",
       "      <td>67.88</td>\n",
       "      <td>83.3700</td>\n",
       "      <td>2.3913</td>\n",
       "      <td>0.60</td>\n",
       "      <td>48.64</td>\n",
       "      <td>24.73</td>\n",
       "      <td>13.21</td>\n",
       "      <td>42.360</td>\n",
       "      <td>144.029111</td>\n",
       "      <td>1.131357e+08</td>\n",
       "      <td>74.368231</td>\n",
       "    </tr>\n",
       "  </tbody>\n",
       "</table>\n",
       "</div>"
      ],
      "text/plain": [
       "            CLOSE_GLD  CLOSE_FXY  CLOSE_T10Y2Y  CLOSE_TED  CLOSE_USO  \\\n",
       "Dates                                                                  \n",
       "2007-04-30      67.09    83.7166        2.4361       0.57      51.24   \n",
       "2007-05-02      66.66    83.3800        2.4366       0.59      49.59   \n",
       "2007-05-03      67.49    83.1100        2.4346       0.60      49.28   \n",
       "2007-05-04      68.19    83.2300        2.4006       0.60      48.30   \n",
       "2007-05-08      67.88    83.3700        2.3913       0.60      48.64   \n",
       "\n",
       "            CLOSE_UUP  CLOSE_VIX  CLOSE_VWO       MA_45        VMA_45  \\\n",
       "Dates                                                                   \n",
       "2007-04-30      24.49      14.22     40.935  143.601556  1.116466e+08   \n",
       "2007-05-02      24.66      13.08     42.020  143.680667  1.121613e+08   \n",
       "2007-05-03      24.69      13.09     42.435  143.780222  1.123421e+08   \n",
       "2007-05-04      24.60      12.91     42.595  143.905111  1.128853e+08   \n",
       "2007-05-08      24.73      13.21     42.360  144.029111  1.131357e+08   \n",
       "\n",
       "               RSI_14  \n",
       "Dates                  \n",
       "2007-04-30  70.956720  \n",
       "2007-05-02  79.237288  \n",
       "2007-05-03  79.604579  \n",
       "2007-05-04  79.411765  \n",
       "2007-05-08  74.368231  "
      ]
     },
     "execution_count": 12,
     "metadata": {},
     "output_type": "execute_result"
    }
   ],
   "source": [
    "x_var.head( )"
   ]
  },
  {
   "cell_type": "markdown",
   "id": "5f58a6e5-eec6-4818-82aa-368a8f509faf",
   "metadata": {},
   "source": [
    "## 6. Model Learning and Evaluation\n",
    "\n",
    "- XGBoost\n",
    "- RandomForest\n",
    "\n",
    "- GridSearchCV\n",
    "- Evaluation"
   ]
  },
  {
   "cell_type": "code",
   "execution_count": 13,
   "id": "e954738b",
   "metadata": {
    "papermill": {
     "duration": 0.015227,
     "end_time": "2024-05-15T04:47:12.533658",
     "exception": false,
     "start_time": "2024-05-15T04:47:12.518431",
     "status": "completed"
    },
    "tags": []
   },
   "outputs": [],
   "source": [
    "# Confusion Matrix and Performance Evaluation Functions\n",
    "def get_confusion_matrix(y_test, pred):\n",
    "    confusion = confusion_matrix(y_test, pred)\n",
    "    accuracy = accuracy_score(y_test, pred)\n",
    "    precision = precision_score(y_test, pred)\n",
    "    recall = recall_score(y_test, pred)\n",
    "    f1 = f1_score(y_test, pred)\n",
    "    roc_score = roc_auc_score(y_test, pred)\n",
    "    print('confusion matrix')\n",
    "    print(confusion)\n",
    "    print('accuracy: {0:.4f}, precision: {1:.4f}, recall: {2:.4f}, F1: {3:.4f}, ROC AUC score: {4:.4f}'.format(\n",
    "        accuracy, precision, recall, f1, roc_score))"
   ]
  },
  {
   "cell_type": "code",
   "execution_count": 14,
   "id": "4c98099d",
   "metadata": {
    "papermill": {
     "duration": 0.368588,
     "end_time": "2024-05-15T04:47:12.909317",
     "exception": false,
     "start_time": "2024-05-15T04:47:12.540729",
     "status": "completed"
    },
    "tags": []
   },
   "outputs": [
    {
     "name": "stdout",
     "output_type": "stream",
     "text": [
      "0.8479286837965391\n",
      "confusion matrix\n",
      "[[333  51]\n",
      " [358  76]]\n",
      "accuracy: 0.5000, precision: 0.5984, recall: 0.1751, F1: 0.2709, ROC AUC score: 0.5212\n"
     ]
    }
   ],
   "source": [
    "# Learning and predicting XGBoost models\n",
    "xgb_dis = XGBClassifier(n_estimators=400, learning_rate=0.1, max_depth=3)\n",
    "xgb_dis.fit(X_train, y_train)\n",
    "xgb_pred = xgb_dis.predict(X_test)\n",
    "\n",
    "print(xgb_dis.score(X_train, y_train))\n",
    "\n",
    "get_confusion_matrix(y_test, xgb_pred)"
   ]
  },
  {
   "cell_type": "code",
   "execution_count": 15,
   "id": "0c94060e",
   "metadata": {
    "papermill": {
     "duration": 1289.67061,
     "end_time": "2024-05-15T05:08:42.587676",
     "exception": false,
     "start_time": "2024-05-15T04:47:12.917066",
     "status": "completed"
    },
    "tags": []
   },
   "outputs": [
    {
     "name": "stdout",
     "output_type": "stream",
     "text": [
      "best parameter:\n",
      " {'bootstrap': True, 'max_depth': 4, 'max_features': 4, 'min_samples_leaf': 4, 'min_samples_split': 6, 'n_estimators': 70}\n",
      "best prediction: 0.5565\n"
     ]
    },
    {
     "name": "stderr",
     "output_type": "stream",
     "text": [
      "/Users/kook/myenv/lib/python3.12/site-packages/numpy/ma/core.py:2820: RuntimeWarning: invalid value encountered in cast\n",
      "  _data = np.array(data, dtype=dtype, copy=copy,\n"
     ]
    }
   ],
   "source": [
    "# Learning and predicting RandomForest models\n",
    "n_estimators = range(10, 200, 10)\n",
    "params = {\n",
    "    'bootstrap': [True],\n",
    "    'n_estimators': n_estimators,\n",
    "    'max_depth': [4, 6, 8, 10, 12],\n",
    "    'min_samples_leaf': [2, 3, 4, 5],\n",
    "    'min_samples_split': [2, 4, 6, 8, 10],\n",
    "    'max_features': [4]\n",
    "}\n",
    "\n",
    "# Cross-validation settings\n",
    "my_cv = TimeSeriesSplit(n_splits=5).split(X_train)\n",
    "\n",
    "# Model learning using GridSearchCV\n",
    "clf = GridSearchCV(RandomForestClassifier(), params, cv=my_cv, n_jobs=-1)\n",
    "clf.fit(X_train, y_train)\n",
    "\n",
    "# Optimal parameter output\n",
    "print('best parameter:\\n', clf.best_params_)\n",
    "print('best prediction: {0:.4f}'.format(clf.best_score_))"
   ]
  },
  {
   "cell_type": "code",
   "execution_count": 16,
   "id": "9996f9ee",
   "metadata": {
    "papermill": {
     "duration": 0.039452,
     "end_time": "2024-05-15T05:08:42.635454",
     "exception": false,
     "start_time": "2024-05-15T05:08:42.596002",
     "status": "completed"
    },
    "tags": []
   },
   "outputs": [
    {
     "name": "stdout",
     "output_type": "stream",
     "text": [
      "accuracy: 0.5061\n",
      "confusion matrix\n",
      "[[319  65]\n",
      " [339  95]]\n",
      "accuracy: 0.5061, precision: 0.5938, recall: 0.2189, F1: 0.3199, ROC AUC score: 0.5248\n"
     ]
    }
   ],
   "source": [
    "# Check performance on test dataset\n",
    "pred_con = clf.predict(X_test)\n",
    "accuracy_con = accuracy_score(y_test, pred_con)\n",
    "print('accuracy: {0:.4f}'.format(accuracy_con))\n",
    "get_confusion_matrix(y_test, pred_con)"
   ]
  }
 ],
 "metadata": {
  "kaggle": {
   "accelerator": "nvidiaTeslaT4",
   "dataSources": [
    {
     "datasetId": 5009199,
     "sourceId": 8415550,
     "sourceType": "datasetVersion"
    }
   ],
   "dockerImageVersionId": 30699,
   "isGpuEnabled": true,
   "isInternetEnabled": true,
   "language": "python",
   "sourceType": "notebook"
  },
  "kernelspec": {
   "display_name": "Python 3 (ipykernel)",
   "language": "python",
   "name": "python3"
  },
  "language_info": {
   "codemirror_mode": {
    "name": "ipython",
    "version": 3
   },
   "file_extension": ".py",
   "mimetype": "text/x-python",
   "name": "python",
   "nbconvert_exporter": "python",
   "pygments_lexer": "ipython3",
   "version": "3.12.7"
  },
  "papermill": {
   "default_parameters": {},
   "duration": 2588.808395,
   "end_time": "2024-05-15T05:30:15.417275",
   "environment_variables": {},
   "exception": null,
   "input_path": "__notebook__.ipynb",
   "output_path": "__notebook__.ipynb",
   "parameters": {},
   "start_time": "2024-05-15T04:47:06.608880",
   "version": "2.5.0"
  }
 },
 "nbformat": 4,
 "nbformat_minor": 5
}
